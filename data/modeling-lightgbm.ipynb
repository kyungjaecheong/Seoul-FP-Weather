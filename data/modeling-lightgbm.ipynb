{
 "cells": [
  {
   "cell_type": "code",
   "execution_count": 1,
   "metadata": {},
   "outputs": [],
   "source": [
    "import numpy as np\n",
    "import pandas as pd\n",
    "import matplotlib.pyplot as plt\n",
    "plt.rcParams['axes.unicode_minus'] = False\n",
    "import seaborn as sns\n",
    "import lightgbm as lgbm\n",
    "from lightgbm import early_stopping, log_evaluation\n",
    "from sklearn.metrics import mean_squared_error, mean_absolute_error\n",
    "from sklearn.model_selection import train_test_split\n",
    "import pickle"
   ]
  },
  {
   "cell_type": "code",
   "execution_count": 2,
   "metadata": {},
   "outputs": [
    {
     "data": {
      "text/html": [
       "<div>\n",
       "<style scoped>\n",
       "    .dataframe tbody tr th:only-of-type {\n",
       "        vertical-align: middle;\n",
       "    }\n",
       "\n",
       "    .dataframe tbody tr th {\n",
       "        vertical-align: top;\n",
       "    }\n",
       "\n",
       "    .dataframe thead th {\n",
       "        text-align: right;\n",
       "    }\n",
       "</style>\n",
       "<table border=\"1\" class=\"dataframe\">\n",
       "  <thead>\n",
       "    <tr style=\"text-align: right;\">\n",
       "      <th></th>\n",
       "      <th>year</th>\n",
       "      <th>month</th>\n",
       "      <th>avgTa</th>\n",
       "      <th>maxTa</th>\n",
       "      <th>minTa</th>\n",
       "      <th>sumRn</th>\n",
       "      <th>avgWs</th>\n",
       "      <th>avgRhm</th>\n",
       "      <th>sumSsHr</th>\n",
       "      <th>avgPs</th>\n",
       "      <th>fp_patients</th>\n",
       "    </tr>\n",
       "  </thead>\n",
       "  <tbody>\n",
       "    <tr>\n",
       "      <th>0</th>\n",
       "      <td>2002</td>\n",
       "      <td>3</td>\n",
       "      <td>7.6</td>\n",
       "      <td>19.4</td>\n",
       "      <td>-2.9</td>\n",
       "      <td>31.5</td>\n",
       "      <td>2.1</td>\n",
       "      <td>55.0</td>\n",
       "      <td>128.6</td>\n",
       "      <td>1016.8</td>\n",
       "      <td>99</td>\n",
       "    </tr>\n",
       "    <tr>\n",
       "      <th>1</th>\n",
       "      <td>2002</td>\n",
       "      <td>4</td>\n",
       "      <td>13.6</td>\n",
       "      <td>27.7</td>\n",
       "      <td>4.3</td>\n",
       "      <td>155.1</td>\n",
       "      <td>2.3</td>\n",
       "      <td>53.0</td>\n",
       "      <td>172.4</td>\n",
       "      <td>1014.5</td>\n",
       "      <td>36</td>\n",
       "    </tr>\n",
       "    <tr>\n",
       "      <th>2</th>\n",
       "      <td>2002</td>\n",
       "      <td>5</td>\n",
       "      <td>18.2</td>\n",
       "      <td>27.7</td>\n",
       "      <td>10.0</td>\n",
       "      <td>58.0</td>\n",
       "      <td>2.3</td>\n",
       "      <td>62.0</td>\n",
       "      <td>175.0</td>\n",
       "      <td>1011.7</td>\n",
       "      <td>13</td>\n",
       "    </tr>\n",
       "    <tr>\n",
       "      <th>3</th>\n",
       "      <td>2002</td>\n",
       "      <td>6</td>\n",
       "      <td>22.2</td>\n",
       "      <td>32.0</td>\n",
       "      <td>14.5</td>\n",
       "      <td>61.4</td>\n",
       "      <td>2.0</td>\n",
       "      <td>62.0</td>\n",
       "      <td>162.9</td>\n",
       "      <td>1007.6</td>\n",
       "      <td>49</td>\n",
       "    </tr>\n",
       "    <tr>\n",
       "      <th>4</th>\n",
       "      <td>2002</td>\n",
       "      <td>7</td>\n",
       "      <td>25.2</td>\n",
       "      <td>34.8</td>\n",
       "      <td>18.9</td>\n",
       "      <td>220.6</td>\n",
       "      <td>2.1</td>\n",
       "      <td>74.0</td>\n",
       "      <td>84.1</td>\n",
       "      <td>1004.5</td>\n",
       "      <td>17</td>\n",
       "    </tr>\n",
       "  </tbody>\n",
       "</table>\n",
       "</div>"
      ],
      "text/plain": [
       "   year  month  avgTa  maxTa  minTa  sumRn  avgWs  avgRhm  sumSsHr   avgPs  \\\n",
       "0  2002      3    7.6   19.4   -2.9   31.5    2.1    55.0    128.6  1016.8   \n",
       "1  2002      4   13.6   27.7    4.3  155.1    2.3    53.0    172.4  1014.5   \n",
       "2  2002      5   18.2   27.7   10.0   58.0    2.3    62.0    175.0  1011.7   \n",
       "3  2002      6   22.2   32.0   14.5   61.4    2.0    62.0    162.9  1007.6   \n",
       "4  2002      7   25.2   34.8   18.9  220.6    2.1    74.0     84.1  1004.5   \n",
       "\n",
       "   fp_patients  \n",
       "0           99  \n",
       "1           36  \n",
       "2           13  \n",
       "3           49  \n",
       "4           17  "
      ]
     },
     "execution_count": 2,
     "metadata": {},
     "output_type": "execute_result"
    }
   ],
   "source": [
    "columns0 = ['year','month','avgTa','maxTa','minTa','sumRn','avgWs','avgRhm','sumSsHr','avgPs','fp_patients']\n",
    "df0 = pd.read_csv('csv/fp-weather.csv', names=columns0)\n",
    "df0.head()"
   ]
  },
  {
   "cell_type": "code",
   "execution_count": 3,
   "metadata": {},
   "outputs": [],
   "source": [
    "df0.to_csv('csv/fp-weather-add-column.csv',index=False)"
   ]
  },
  {
   "cell_type": "code",
   "execution_count": 4,
   "metadata": {},
   "outputs": [
    {
     "data": {
      "text/html": [
       "<div>\n",
       "<style scoped>\n",
       "    .dataframe tbody tr th:only-of-type {\n",
       "        vertical-align: middle;\n",
       "    }\n",
       "\n",
       "    .dataframe tbody tr th {\n",
       "        vertical-align: top;\n",
       "    }\n",
       "\n",
       "    .dataframe thead th {\n",
       "        text-align: right;\n",
       "    }\n",
       "</style>\n",
       "<table border=\"1\" class=\"dataframe\">\n",
       "  <thead>\n",
       "    <tr style=\"text-align: right;\">\n",
       "      <th></th>\n",
       "      <th>avgTa</th>\n",
       "      <th>maxTa</th>\n",
       "      <th>minTa</th>\n",
       "      <th>sumRn</th>\n",
       "      <th>avgWs</th>\n",
       "      <th>avgRhm</th>\n",
       "      <th>sumSsHr</th>\n",
       "      <th>avgPs</th>\n",
       "      <th>fp_patients</th>\n",
       "    </tr>\n",
       "  </thead>\n",
       "  <tbody>\n",
       "    <tr>\n",
       "      <th>0</th>\n",
       "      <td>7.6</td>\n",
       "      <td>19.4</td>\n",
       "      <td>-2.9</td>\n",
       "      <td>31.5</td>\n",
       "      <td>2.1</td>\n",
       "      <td>55.0</td>\n",
       "      <td>128.6</td>\n",
       "      <td>1016.8</td>\n",
       "      <td>99</td>\n",
       "    </tr>\n",
       "    <tr>\n",
       "      <th>1</th>\n",
       "      <td>13.6</td>\n",
       "      <td>27.7</td>\n",
       "      <td>4.3</td>\n",
       "      <td>155.1</td>\n",
       "      <td>2.3</td>\n",
       "      <td>53.0</td>\n",
       "      <td>172.4</td>\n",
       "      <td>1014.5</td>\n",
       "      <td>36</td>\n",
       "    </tr>\n",
       "    <tr>\n",
       "      <th>2</th>\n",
       "      <td>18.2</td>\n",
       "      <td>27.7</td>\n",
       "      <td>10.0</td>\n",
       "      <td>58.0</td>\n",
       "      <td>2.3</td>\n",
       "      <td>62.0</td>\n",
       "      <td>175.0</td>\n",
       "      <td>1011.7</td>\n",
       "      <td>13</td>\n",
       "    </tr>\n",
       "    <tr>\n",
       "      <th>3</th>\n",
       "      <td>22.2</td>\n",
       "      <td>32.0</td>\n",
       "      <td>14.5</td>\n",
       "      <td>61.4</td>\n",
       "      <td>2.0</td>\n",
       "      <td>62.0</td>\n",
       "      <td>162.9</td>\n",
       "      <td>1007.6</td>\n",
       "      <td>49</td>\n",
       "    </tr>\n",
       "    <tr>\n",
       "      <th>4</th>\n",
       "      <td>25.2</td>\n",
       "      <td>34.8</td>\n",
       "      <td>18.9</td>\n",
       "      <td>220.6</td>\n",
       "      <td>2.1</td>\n",
       "      <td>74.0</td>\n",
       "      <td>84.1</td>\n",
       "      <td>1004.5</td>\n",
       "      <td>17</td>\n",
       "    </tr>\n",
       "  </tbody>\n",
       "</table>\n",
       "</div>"
      ],
      "text/plain": [
       "   avgTa  maxTa  minTa  sumRn  avgWs  avgRhm  sumSsHr   avgPs  fp_patients\n",
       "0    7.6   19.4   -2.9   31.5    2.1    55.0    128.6  1016.8           99\n",
       "1   13.6   27.7    4.3  155.1    2.3    53.0    172.4  1014.5           36\n",
       "2   18.2   27.7   10.0   58.0    2.3    62.0    175.0  1011.7           13\n",
       "3   22.2   32.0   14.5   61.4    2.0    62.0    162.9  1007.6           49\n",
       "4   25.2   34.8   18.9  220.6    2.1    74.0     84.1  1004.5           17"
      ]
     },
     "execution_count": 4,
     "metadata": {},
     "output_type": "execute_result"
    }
   ],
   "source": [
    "columns1 = ['avgTa','maxTa','minTa','sumRn','avgWs','avgRhm','sumSsHr','avgPs','fp_patients']\n",
    "df1 = df0[columns1]\n",
    "df1.head()"
   ]
  },
  {
   "cell_type": "code",
   "execution_count": 5,
   "metadata": {},
   "outputs": [
    {
     "name": "stdout",
     "output_type": "stream",
     "text": [
      "DataFrame Shape : (208, 9)\n",
      "Sum of Duplicated Data : 0\n",
      "Sum of Null Data : 0\n"
     ]
    }
   ],
   "source": [
    "print('DataFrame Shape : {}'.format(df1.shape))\n",
    "print('Sum of Duplicated Data : {}'.format(df1.duplicated().sum()))\n",
    "print('Sum of Null Data : {}'.format(df1.isnull().sum().sum()))"
   ]
  },
  {
   "cell_type": "code",
   "execution_count": 6,
   "metadata": {},
   "outputs": [
    {
     "name": "stdout",
     "output_type": "stream",
     "text": [
      "<class 'pandas.core.frame.DataFrame'>\n",
      "RangeIndex: 208 entries, 0 to 207\n",
      "Data columns (total 9 columns):\n",
      " #   Column       Non-Null Count  Dtype  \n",
      "---  ------       --------------  -----  \n",
      " 0   avgTa        208 non-null    float64\n",
      " 1   maxTa        208 non-null    float64\n",
      " 2   minTa        208 non-null    float64\n",
      " 3   sumRn        208 non-null    float64\n",
      " 4   avgWs        208 non-null    float64\n",
      " 5   avgRhm       208 non-null    float64\n",
      " 6   sumSsHr      208 non-null    float64\n",
      " 7   avgPs        208 non-null    float64\n",
      " 8   fp_patients  208 non-null    int64  \n",
      "dtypes: float64(8), int64(1)\n",
      "memory usage: 14.8 KB\n"
     ]
    }
   ],
   "source": [
    "df1.info()"
   ]
  },
  {
   "cell_type": "code",
   "execution_count": 7,
   "metadata": {},
   "outputs": [
    {
     "name": "stdout",
     "output_type": "stream",
     "text": [
      "분리전 데이터 : (208, 9)\n",
      "\n",
      "훈련 데이터 : (156, 9)\n",
      "테스트 데이터 : (52, 9)\n"
     ]
    }
   ],
   "source": [
    "train, test = train_test_split(df1, test_size=0.25, random_state=42)\n",
    "print('분리전 데이터 : {}\\n'.format(df1.shape))\n",
    "print('훈련 데이터 : {}'.format(train.shape))\n",
    "print('테스트 데이터 : {}'.format(test.shape))"
   ]
  },
  {
   "cell_type": "code",
   "execution_count": 8,
   "metadata": {},
   "outputs": [
    {
     "name": "stdout",
     "output_type": "stream",
     "text": [
      "X y 분리 후 shape\n",
      "\n",
      "X_train : (156, 8)\n",
      "y_train : (156,)\n",
      "\n",
      "X_test : (52, 8)\n",
      "y_test : (52,)\n"
     ]
    }
   ],
   "source": [
    "target = 'fp_patients'\n",
    "features = df1.columns.drop(target)\n",
    "\n",
    "X_train =  train[features]\n",
    "y_train = train[target]\n",
    "X_test = test[features]\n",
    "y_test = test[target]\n",
    "\n",
    "print('X y 분리 후 shape\\n')\n",
    "print('X_train : {}'.format(X_train.shape))\n",
    "print('y_train : {}'.format(y_train.shape))\n",
    "print('\\nX_test : {}'.format(X_test.shape))\n",
    "print('y_test : {}'.format(y_test.shape))"
   ]
  },
  {
   "cell_type": "code",
   "execution_count": 9,
   "metadata": {},
   "outputs": [
    {
     "name": "stdout",
     "output_type": "stream",
     "text": [
      "Baseline mean : 103.72435897435898\n",
      "Baseline MSE : 46863.85350920447\n",
      "Baseline RMSE : 216.48060769779002\n",
      "Baseline MAE : 113.04100920447075\n"
     ]
    }
   ],
   "source": [
    "baseline = [y_train.mean()] * len(y_train)\n",
    "baseline_mse = mean_squared_error(y_train, baseline)\n",
    "baseline_rmse = np.sqrt(mean_squared_error(y_train, baseline))\n",
    "baseline_mae = mean_absolute_error(y_train, baseline)\n",
    "print('Baseline mean : {}'.format(y_train.mean()))\n",
    "print('Baseline MSE : {}'.format(baseline_mse))\n",
    "print('Baseline RMSE : {}'.format(baseline_rmse))\n",
    "print('Baseline MAE : {}'.format(baseline_mae))"
   ]
  },
  {
   "cell_type": "code",
   "execution_count": 10,
   "metadata": {},
   "outputs": [],
   "source": [
    "train_ds = lgbm.Dataset(X_train, label= y_train)\n",
    "test_ds = lgbm.Dataset(X_test, label= y_test)\n",
    "\n",
    "param = {\n",
    "    'boosting' : 'gbdt',\n",
    "    'objective' : 'regression',\n",
    "    'metric' : 'rmse',\n",
    "    'seed' : 42,\n",
    "    'is_training_metric' : True,\n",
    "    'max_depth' : 16,\n",
    "    'learning_rate' : 0.05,\n",
    "    'feature_fraction' : 0.75,\n",
    "    'bagging_fraction' : 0.8,\n",
    "    'bagging_freq' : 16,\n",
    "    'num_leaves' : 128,\n",
    "    'verbosity' : -1\n",
    "}"
   ]
  },
  {
   "cell_type": "code",
   "execution_count": 11,
   "metadata": {},
   "outputs": [
    {
     "name": "stdout",
     "output_type": "stream",
     "text": [
      "Training until validation scores don't improve for 75 rounds\n",
      "[75]\tvalid_0's rmse: 120.443\n",
      "[150]\tvalid_0's rmse: 123.299\n",
      "Early stopping, best iteration is:\n",
      "[93]\tvalid_0's rmse: 119.486\n"
     ]
    }
   ],
   "source": [
    "model_lgbm = lgbm.train(params=param,\n",
    "                   train_set=train_ds,\n",
    "                   num_boost_round=1000,\n",
    "                   valid_sets=test_ds,\n",
    "                   callbacks=[early_stopping(75),\n",
    "                              log_evaluation(75)])"
   ]
  },
  {
   "cell_type": "code",
   "execution_count": 12,
   "metadata": {},
   "outputs": [
    {
     "data": {
      "text/html": [
       "<div>\n",
       "<style scoped>\n",
       "    .dataframe tbody tr th:only-of-type {\n",
       "        vertical-align: middle;\n",
       "    }\n",
       "\n",
       "    .dataframe tbody tr th {\n",
       "        vertical-align: top;\n",
       "    }\n",
       "\n",
       "    .dataframe thead th {\n",
       "        text-align: right;\n",
       "    }\n",
       "</style>\n",
       "<table border=\"1\" class=\"dataframe\">\n",
       "  <thead>\n",
       "    <tr style=\"text-align: right;\">\n",
       "      <th></th>\n",
       "      <th>Baseline</th>\n",
       "      <th>Train</th>\n",
       "      <th>Test</th>\n",
       "    </tr>\n",
       "  </thead>\n",
       "  <tbody>\n",
       "    <tr>\n",
       "      <th>Mean</th>\n",
       "      <td>103.724359</td>\n",
       "      <td>103.623099</td>\n",
       "      <td>117.324022</td>\n",
       "    </tr>\n",
       "    <tr>\n",
       "      <th>MSE</th>\n",
       "      <td>46863.853509</td>\n",
       "      <td>32435.952569</td>\n",
       "      <td>14276.814351</td>\n",
       "    </tr>\n",
       "    <tr>\n",
       "      <th>RMSE</th>\n",
       "      <td>216.480608</td>\n",
       "      <td>180.099841</td>\n",
       "      <td>119.485624</td>\n",
       "    </tr>\n",
       "    <tr>\n",
       "      <th>MAE</th>\n",
       "      <td>113.041009</td>\n",
       "      <td>95.300065</td>\n",
       "      <td>83.334405</td>\n",
       "    </tr>\n",
       "  </tbody>\n",
       "</table>\n",
       "</div>"
      ],
      "text/plain": [
       "          Baseline         Train          Test\n",
       "Mean    103.724359    103.623099    117.324022\n",
       "MSE   46863.853509  32435.952569  14276.814351\n",
       "RMSE    216.480608    180.099841    119.485624\n",
       "MAE     113.041009     95.300065     83.334405"
      ]
     },
     "execution_count": 12,
     "metadata": {},
     "output_type": "execute_result"
    }
   ],
   "source": [
    "predict_train = model_lgbm.predict(X_train)\n",
    "predict_test = model_lgbm.predict(X_test)\n",
    "\n",
    "df_metrics = pd.DataFrame({'Baseline':[y_train.mean(),\n",
    "                                   baseline_mse,\n",
    "                                   baseline_rmse,\n",
    "                                   baseline_mae],\n",
    "                           'Train':[predict_train.mean(),\n",
    "                                  mean_squared_error(y_train,predict_train),\n",
    "                                  np.sqrt(mean_squared_error(y_train,predict_train)),\n",
    "                                  mean_absolute_error(y_train,predict_train)],\n",
    "                           'Test':[predict_test.mean(),\n",
    "                                   mean_squared_error(y_test,predict_test),\n",
    "                                   np.sqrt(mean_squared_error(y_test,predict_test)),\n",
    "                                   mean_absolute_error(y_test,predict_test)]},\n",
    "                          index = ['Mean','MSE','RMSE','MAE'])\n",
    "df_metrics"
   ]
  },
  {
   "cell_type": "code",
   "execution_count": 13,
   "metadata": {},
   "outputs": [
    {
     "data": {
      "text/html": [
       "<div>\n",
       "<style scoped>\n",
       "    .dataframe tbody tr th:only-of-type {\n",
       "        vertical-align: middle;\n",
       "    }\n",
       "\n",
       "    .dataframe tbody tr th {\n",
       "        vertical-align: top;\n",
       "    }\n",
       "\n",
       "    .dataframe thead th {\n",
       "        text-align: right;\n",
       "    }\n",
       "</style>\n",
       "<table border=\"1\" class=\"dataframe\">\n",
       "  <thead>\n",
       "    <tr style=\"text-align: right;\">\n",
       "      <th></th>\n",
       "      <th>Baseline</th>\n",
       "      <th>Train</th>\n",
       "      <th>Test</th>\n",
       "    </tr>\n",
       "  </thead>\n",
       "  <tbody>\n",
       "    <tr>\n",
       "      <th>RMSE</th>\n",
       "      <td>216.480608</td>\n",
       "      <td>180.099841</td>\n",
       "      <td>119.485624</td>\n",
       "    </tr>\n",
       "    <tr>\n",
       "      <th>MAE</th>\n",
       "      <td>113.041009</td>\n",
       "      <td>95.300065</td>\n",
       "      <td>83.334405</td>\n",
       "    </tr>\n",
       "  </tbody>\n",
       "</table>\n",
       "</div>"
      ],
      "text/plain": [
       "        Baseline       Train        Test\n",
       "RMSE  216.480608  180.099841  119.485624\n",
       "MAE   113.041009   95.300065   83.334405"
      ]
     },
     "execution_count": 13,
     "metadata": {},
     "output_type": "execute_result"
    }
   ],
   "source": [
    "df_metrics_plot = df_metrics.iloc[2:]\n",
    "df_metrics_plot"
   ]
  },
  {
   "cell_type": "code",
   "execution_count": 14,
   "metadata": {},
   "outputs": [
    {
     "data": {
      "image/png": "[encoded data removed]",
      "text/plain": [
       "<Figure size 640x480 with 1 Axes>"
      ]
     },
     "metadata": {},
     "output_type": "display_data"
    }
   ],
   "source": [
    "x = np.arange(2)\n",
    "width = 0.3\n",
    "\n",
    "fig, ax = plt.subplots()\n",
    "rect1 = ax.bar(x-width, df_metrics_plot.Baseline.round(3), width, label='Baseline',color='black',alpha=0.5)\n",
    "rect2 = ax.bar(x, df_metrics_plot.Train.round(3), width, label='Train',color='purple',alpha=0.5)\n",
    "rect3 = ax.bar(x+width, df_metrics_plot.Test.round(3), width, label='Test',color='purple',alpha=0.75)\n",
    "\n",
    "ax.set_title('Metrics of LightGBM model')\n",
    "ax.set_xticks(x, df_metrics_plot.index)\n",
    "ax.bar_label(rect1, padding=3)\n",
    "ax.bar_label(rect2, padding=3)\n",
    "ax.bar_label(rect3, padding=3)\n",
    "\n",
    "fig.tight_layout()\n",
    "\n",
    "plt.legend(ncol=3)\n",
    "plt.show()"
   ]
  },
  {
   "cell_type": "code",
   "execution_count": 15,
   "metadata": {},
   "outputs": [
    {
     "data": {
      "image/png": "[encoded data removed]",
      "text/plain": [
       "<Figure size 640x480 with 1 Axes>"
      ]
     },
     "metadata": {},
     "output_type": "display_data"
    }
   ],
   "source": [
    "result = pd.concat([y_test.reset_index(drop=True), pd.DataFrame(predict_test)], axis = 1)\n",
    "result.columns = ['label','predict']\n",
    "sns.regplot(x='label', y='predict', data=result)\n",
    "plt.show()"
   ]
  },
  {
   "cell_type": "code",
   "execution_count": 16,
   "metadata": {},
   "outputs": [],
   "source": [
    "with open('model.pkl', 'wb') as pf:\n",
    "    pickle.dump(model_lgbm, pf)"
   ]
  }
 ],
 "metadata": {
  "kernelspec": {
   "display_name": "Python 3.8.13 ('fpweather')",
   "language": "python",
   "name": "python3"
  },
  "language_info": {
   "codemirror_mode": {
    "name": "ipython",
    "version": 3
   },
   "file_extension": ".py",
   "mimetype": "text/x-python",
   "name": "python",
   "nbconvert_exporter": "python",
   "pygments_lexer": "ipython3",
   "version": "3.8.13"
  },
  "orig_nbformat": 4,
  "vscode": {
   "interpreter": {
    "hash": "3a1855108732fcd81483fa7ad91b152062e181f39a638907ced4454ca83fba9a"
   }
  }
 },
 "nbformat": 4,
 "nbformat_minor": 2
}
